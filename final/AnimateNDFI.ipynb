{
 "cells": [
  {
   "cell_type": "code",
   "execution_count": null,
   "id": "recognized-wheel",
   "metadata": {},
   "outputs": [],
   "source": [
    "# import libraries\n",
    "import numpy as np\n",
    "from imageio import imread\n",
    "\n",
    "import matplotlib.pyplot as plt\n",
    "import matplotlib.animation as animation\n",
    "import matplotlib\n",
    "\n",
    "# path to ffmpeg for creating more efficiently encoded videos\n",
    "matplotlib.rcParams['animation.ffmpeg_path'] = r'C:\\\\Users\\\\dd\\\\.conda\\\\envs\\\\ML_in_geosciences\\\\ffmpeg\\\\bin\\\\ffmpeg.exe'"
   ]
  },
  {
   "cell_type": "code",
   "execution_count": null,
   "id": "welcome-royalty",
   "metadata": {},
   "outputs": [],
   "source": [
    "# create colormap to use for plotting ndfi\n",
    "colors = [\"darkorange\", \"lawngreen\"]\n",
    "nodes = [0., 1.]\n",
    "CMAP = matplotlib.colors.LinearSegmentedColormap.from_list(\"cmap_ndfi\", list(zip(nodes, colors)))"
   ]
  },
  {
   "cell_type": "code",
   "execution_count": null,
   "id": "british-latitude",
   "metadata": {},
   "outputs": [],
   "source": [
    "def subplot_setup(ax, img_background, img_first, title):\n",
    "    \"\"\"Sets up individual subplots with the first frame and plot styling.\"\"\"\n",
    "    # show background of first frame\n",
    "    ax.imshow(img_background)\n",
    "    # show first observation\n",
    "    img = ax.imshow(img_first, cmap=CMAP)\n",
    "    \n",
    "    # style the subplot\n",
    "    ax.set_axis_off()\n",
    "    ax.set_title(title)\n",
    "    \n",
    "    return img\n",
    "\n",
    "def animate(i):\n",
    "    #line.set_ydata(np.sin(x + i / 50))  # update the data.\n",
    "    #return line,\n",
    "    return ax1.imshow(DATA[:,:,i], cmap=CMAP), ax2.imshow(DATA2[:,:,i], cmap = CMAP), ax3.imshow(DATA3[:,:,i], cmap = CMAP),"
   ]
  },
  {
   "cell_type": "code",
   "execution_count": null,
   "id": "north-cause",
   "metadata": {},
   "outputs": [],
   "source": [
    "def load_dataset(inpath):\n",
    "    \"\"\"Load raster and convert it into numpy array with values between -1 and 1.\"\"\"\n",
    "    loaded_data = imread(rasterpath)\n",
    "    print(loaded_data.shape)\n",
    "    loaded_data = loaded_data / 10_000\n",
    "    loaded_data[loaded_data<-3] = np.nan\n",
    "    loaded_data[loaded_data<-1] = -1\n",
    "    loaded_data[loaded_data>1] = 1\n",
    "    return loaded_data\n",
    "\n",
    "rasterpath = 'E:/__Earth_Observation/grasslands/data/raster/ndfi/ndfi_branden.tif'\n",
    "DATA = load_dataset(rasterpath)\n",
    "DATA2= DATA\n",
    "DATA3= DATA"
   ]
  },
  {
   "cell_type": "code",
   "execution_count": null,
   "id": "visible-edition",
   "metadata": {},
   "outputs": [],
   "source": [
    "plt.hist(DATA.flatten())"
   ]
  },
  {
   "cell_type": "code",
   "execution_count": null,
   "id": "ranging-winning",
   "metadata": {
    "scrolled": true
   },
   "outputs": [],
   "source": [
    "# create figure and style it\n",
    "fig, (ax1, ax2, ax3) = plt.subplots(ncols=3, figsize=(20, 5), dpi=300.)\n",
    "fig.suptitle('NDFI throughout 2018 on three sites in Germany:')\n",
    "\n",
    "# set up individual subplots\n",
    "# first subplot returns a Mappable which is used for creating the colorbar\n",
    "img = subplot_setup(ax1, DATA[:,:,0], DATA[:,:,0], 'Hello world')\n",
    "subplot_setup(ax2, DATA2[:,:,0], DATA2[:,:,0], 'Hello world2')\n",
    "subplot_setup(ax3, DATA3[:,:,0], DATA3[:,:,0], 'Hello world3')\n",
    "\n",
    "# create colorbar\n",
    "cbar = plt.colorbar(img, ax=[ax1, ax2, ax3])\n",
    "cbar.set_label('NDFI')\n",
    "\n",
    "\n",
    "# animate the figure\n",
    "ani = animation.FuncAnimation(\n",
    "    fig, animate, frames=DATA.shape[2], interval=20, blit=True, save_count=50)"
   ]
  },
  {
   "cell_type": "code",
   "execution_count": null,
   "id": "guided-cuisine",
   "metadata": {},
   "outputs": [],
   "source": [
    "# To save the animation, use e.g.\n",
    "writer = animation.FFMpegWriter(\n",
    "    fps=2, metadata=dict(artist='Me'))#, bitrate=1800)\n",
    "ani.save(\"C:\\\\users\\\\dd\\\\downloads\\\\movie_ndfi_test_3.mp4\", writer=writer)"
   ]
  },
  {
   "cell_type": "code",
   "execution_count": null,
   "id": "adaptive-zoning",
   "metadata": {},
   "outputs": [],
   "source": [
    "f'<html>\\n<body>\\n{0+2}\\n</body>\\n</html>'"
   ]
  },
  {
   "cell_type": "code",
   "execution_count": null,
   "id": "fewer-telephone",
   "metadata": {},
   "outputs": [],
   "source": [
    "html_str = f'{ani.to_html5_video()}'"
   ]
  }
 ],
 "metadata": {
  "kernelspec": {
   "display_name": "Python 3",
   "language": "python",
   "name": "python3"
  },
  "language_info": {
   "codemirror_mode": {
    "name": "ipython",
    "version": 3
   },
   "file_extension": ".py",
   "mimetype": "text/x-python",
   "name": "python",
   "nbconvert_exporter": "python",
   "pygments_lexer": "ipython3",
   "version": "3.9.1"
  }
 },
 "nbformat": 4,
 "nbformat_minor": 5
}
